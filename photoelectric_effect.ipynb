{
 "cells": [
  {
   "cell_type": "code",
   "execution_count": 27,
   "metadata": {},
   "outputs": [],
   "source": [
    "import csv\n",
    "from scipy.constants import h,e,c\n",
    "import numpy as np\n",
    "import itertools"
   ]
  },
  {
   "cell_type": "markdown",
   "metadata": {},
   "source": [
    "# Photoelectric Effect"
   ]
  },
  {
   "cell_type": "code",
   "execution_count": 28,
   "metadata": {},
   "outputs": [],
   "source": [
    "def PhotoelectricEffect(stop_voltage:float, nu_0:float=None, work_function_eV:float=None):\n",
    "    if nu_0 is not None and work_function_eV is not None:\n",
    "        raise ValueError(\"You must give just one of either nu_0 or work_function_eV.\")\n",
    "    elif work_function_eV is not None:\n",
    "        W = work_function_eV*1.60217733E-19\n",
    "    else:\n",
    "        W=h*nu_0\n",
    "    return (e*stop_voltage+W)/h"
   ]
  },
  {
   "cell_type": "code",
   "execution_count": 29,
   "metadata": {},
   "outputs": [
    {
     "name": "stdout",
     "output_type": "stream",
     "text": [
      "0.12xe15 Hz\n"
     ]
    }
   ],
   "source": [
    "frequency=PhotoelectricEffect(stop_voltage=0.01,work_function_eV=0.5)\n",
    "print(f\"{frequency/1e15:.2f}xe15 Hz\")"
   ]
  },
  {
   "cell_type": "markdown",
   "metadata": {},
   "source": [
    "# Materials and voltages avaliable"
   ]
  },
  {
   "cell_type": "code",
   "execution_count": 30,
   "metadata": {},
   "outputs": [],
   "source": [
    "work_function_materials={'Cu':4.53, 'Ca': 2.87,'Cs': 2.1 ,'Fe': 4.67, 'Co': 5.0, 'Lowest_Work_Function':1}\n",
    "voltages = [2**(i/50) for i in range(-250,250)]"
   ]
  },
  {
   "cell_type": "markdown",
   "metadata": {},
   "source": [
    "# Wavelength converter"
   ]
  },
  {
   "cell_type": "code",
   "execution_count": 31,
   "metadata": {},
   "outputs": [],
   "source": [
    "def toWavelength(frequency:float):\n",
    "    return c/frequency"
   ]
  },
  {
   "cell_type": "code",
   "execution_count": 32,
   "metadata": {},
   "outputs": [
    {
     "name": "stdout",
     "output_type": "stream",
     "text": [
      "*Frequency*: 0.12xe15 Hz | *Wavelenght*: 2431.06 nm\n"
     ]
    }
   ],
   "source": [
    "wavelength=toWavelength(frequency)\n",
    "print(f\"*Frequency*: {frequency/1e15:.2f}xe15 Hz | *Wavelenght*: {wavelength*1e9:.2f} nm\")"
   ]
  },
  {
   "cell_type": "markdown",
   "metadata": {},
   "source": [
    "# Defining the matrix"
   ]
  },
  {
   "cell_type": "code",
   "execution_count": 33,
   "metadata": {},
   "outputs": [],
   "source": [
    "# fields=['Work Function','Voltage','Frequency','Wavelength',\"Colour\",\"Spectrum range\"]\n",
    "# matrix = [[i, j, PhotoelectricEffect(stop_voltage=j, work_function_eV=i),toWavelength(PhotoelectricEffect(stop_voltage=j, work_function_eV=i))] for i, j in itertools.product(work_function_materials.values(), voltages)]"
   ]
  },
  {
   "cell_type": "markdown",
   "metadata": {},
   "source": [
    "# Writing the data into csv file"
   ]
  },
  {
   "cell_type": "code",
   "execution_count": 34,
   "metadata": {},
   "outputs": [],
   "source": [
    "# with open('phe_data.csv', 'w') as csvfile: \n",
    "#     # creating a csv writer object \n",
    "#     csvwriter = csv.writer(csvfile) \n",
    "        \n",
    "#     # writing the fields \n",
    "#     csvwriter.writerow(fields) \n",
    "#     # writing the data rows \n",
    "#     csvwriter.writerows(matrix)"
   ]
  },
  {
   "cell_type": "markdown",
   "metadata": {},
   "source": [
    "# Checking the range"
   ]
  },
  {
   "cell_type": "code",
   "execution_count": 35,
   "metadata": {},
   "outputs": [],
   "source": [
    "# npmatrix=np.array(matrix)\n",
    "# minWl=toWavelength(min(npmatrix[:,2]))*1e9\n",
    "# maxWl=toWavelength(max(npmatrix[:,2]))*1e9\n",
    "# print(f\"minWl =  {minWl:.2f} nm, maxWl = {maxWl:.2f} nm\")\n"
   ]
  },
  {
   "cell_type": "code",
   "execution_count": 36,
   "metadata": {},
   "outputs": [],
   "source": [
    "from typing import Tuple\n",
    "\n",
    "\n",
    "def wave2rgb(wave:float)->Tuple[float,float,float,str]:\n",
    "    # This is a port of javascript code from  http://stackoverflow.com/a/14917481\n",
    "    gamma = 0.8\n",
    "    intensity_max = 1\n",
    "\n",
    "    if wave < 380:\n",
    "        red, green, blue = -(wave - 440) / (440 - 380), 0, 1\n",
    "    elif wave < 440:\n",
    "        red = -(wave - 440) / (440 - 380)\n",
    "        green, blue = 0, 1\n",
    "    elif wave < 490:\n",
    "        red = 0\n",
    "        green = (wave - 440) / (490 - 440)\n",
    "        blue = 1\n",
    "    elif wave < 510:\n",
    "        red, green = 0, 1\n",
    "        blue = -(wave - 510) / (510 - 490)\n",
    "    elif wave < 580:\n",
    "        red = (wave - 510) / (580 - 510)\n",
    "        green, blue = 1, 0\n",
    "    elif wave < 645:\n",
    "        red = 1\n",
    "        green = -(wave - 645) / (645 - 580)\n",
    "        blue = 0\n",
    "    elif wave <= 780:\n",
    "        red, green, blue = 1, 0, 0\n",
    "    else:\n",
    "        red, green, blue = 0, 0, 0\n",
    "\n",
    "    # let the intensity fall of near the vision limits\n",
    "    if wave < 380:\n",
    "        factor = 0\n",
    "        return 0.72,0.4,0.93,\"UV\"\n",
    "    elif wave < 420:\n",
    "        factor = 0.3 + 0.7 * (wave - 380) / (420 - 380)\n",
    "    elif wave < 700:\n",
    "        factor = 1\n",
    "    elif wave <= 780:\n",
    "        factor = 0.3 + 0.7 * (780 - wave) / (780 - 700)\n",
    "    else:\n",
    "        factor = 0\n",
    "        return 1,0,0,\"IR\"\n",
    "\n",
    "    def f(c):\n",
    "        return 0 if c == 0 else intensity_max * pow (c * factor, gamma)\n",
    "\n",
    "    return f(red), f(green), f(blue), \"VIS\""
   ]
  },
  {
   "cell_type": "code",
   "execution_count": 37,
   "metadata": {},
   "outputs": [
    {
     "name": "stdout",
     "output_type": "stream",
     "text": [
      "(1,0,0), IR)\n",
      "#ff0000\n"
     ]
    }
   ],
   "source": [
    "import matplotlib\n",
    "r,g,b,spec=wave2rgb(wavelength*1e9)\n",
    "print(f\"({r},{g},{b}), {spec})\")\n",
    "print(matplotlib.colors.to_hex([ r, g, b ]))"
   ]
  },
  {
   "cell_type": "code",
   "execution_count": 50,
   "metadata": {},
   "outputs": [],
   "source": [
    "fields=['Name','Material','Work Function','Voltage','Frequency','Wavelength',\"Colour RGB\",\"Colour Hex\", \"Spectrum range\"]\n",
    "val_list = list(work_function_materials.values())\n",
    "key_list = list(work_function_materials.keys())\n",
    "matrix1 = []\n",
    "k=0\n",
    "for i in work_function_materials.values():\n",
    "    for j in voltages:\n",
    "        r=wave2rgb(toWavelength(PhotoelectricEffect(stop_voltage=j, work_function_eV=i))*1e9)[0]\n",
    "        g=wave2rgb(toWavelength(PhotoelectricEffect(stop_voltage=j, work_function_eV=i))*1e9)[1]\n",
    "        b=wave2rgb(toWavelength(PhotoelectricEffect(stop_voltage=j, work_function_eV=i))*1e9)[2]\n",
    "        matrix1.append([k,key_list[val_list.index(i)],i, round(j,4), round(PhotoelectricEffect(stop_voltage=j, work_function_eV=i)/1e15,4),round(toWavelength(PhotoelectricEffect(stop_voltage=j, work_function_eV=i))*1e9,4),f\"(R={r},G={g},B={b},A=1)\",matplotlib.colors.to_hex(wave2rgb(toWavelength(PhotoelectricEffect(stop_voltage=j, work_function_eV=i))*1e9)[:3]),wave2rgb(toWavelength(PhotoelectricEffect(stop_voltage=j, work_function_eV=i))*1e9)[3]])\n",
    "        k=k+1\n",
    "# matrix = [[key_list[val_list.index(i)],i, j, PhotoelectricEffect(stop_voltage=j, work_function_eV=i),toWavelength(PhotoelectricEffect(stop_voltage=j, work_function_eV=i)),wave2rgb(toWavelength(PhotoelectricEffect(stop_voltage=j, work_function_eV=i))*1e9)[:3],matplotlib.colors.to_hex(wave2rgb(toWavelength(PhotoelectricEffect(stop_voltage=j, work_function_eV=i))*1e9)[:3]),wave2rgb(toWavelength(PhotoelectricEffect(stop_voltage=j, work_function_eV=i))*1e9)[3]] for i, j in itertools.product(work_function_materials.values(), voltages)]"
   ]
  },
  {
   "cell_type": "code",
   "execution_count": 51,
   "metadata": {},
   "outputs": [],
   "source": [
    "with open('phe_data.csv', 'w') as csvfile: \n",
    "    # creating a csv writer object \n",
    "    csvwriter = csv.writer(csvfile) \n",
    "        \n",
    "    # writing the fields \n",
    "    csvwriter.writerow(fields) \n",
    "    # writing the data rows \n",
    "    csvwriter.writerows(matrix1)"
   ]
  },
  {
   "cell_type": "code",
   "execution_count": null,
   "metadata": {},
   "outputs": [],
   "source": []
  }
 ],
 "metadata": {
  "kernelspec": {
   "display_name": "Python 3.9.7 ('base')",
   "language": "python",
   "name": "python3"
  },
  "language_info": {
   "codemirror_mode": {
    "name": "ipython",
    "version": 3
   },
   "file_extension": ".py",
   "mimetype": "text/x-python",
   "name": "python",
   "nbconvert_exporter": "python",
   "pygments_lexer": "ipython3",
   "version": "3.9.7"
  },
  "orig_nbformat": 4,
  "vscode": {
   "interpreter": {
    "hash": "88279d2366fe020547cde40dd65aa0e3aa662a6ec1f3ca12d88834876c85e1a6"
   }
  }
 },
 "nbformat": 4,
 "nbformat_minor": 2
}
